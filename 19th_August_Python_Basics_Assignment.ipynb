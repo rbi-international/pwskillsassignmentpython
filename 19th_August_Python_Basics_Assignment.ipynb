{
 "cells": [
  {
   "cell_type": "markdown",
   "id": "3de3e3fa",
   "metadata": {},
   "source": [
    "# TOPIC: Python Basics Variable"
   ]
  },
  {
   "cell_type": "markdown",
   "id": "b1591e62",
   "metadata": {},
   "source": [
    "1. Declare two variables, `x` and `y`, and assign them integer values. Swap the\n",
    "values of these variables without using any temporary variable."
   ]
  },
  {
   "cell_type": "code",
   "execution_count": 3,
   "id": "1571d268",
   "metadata": {},
   "outputs": [
    {
     "name": "stdout",
     "output_type": "stream",
     "text": [
      "Values before swapping:  20 15\n",
      "Values after swapping:  15 20\n"
     ]
    }
   ],
   "source": [
    "x = 20\n",
    "y = 15\n",
    "\n",
    "print(\"Values before swapping: \", x, y)\n",
    "\n",
    "# swapping the values\n",
    "x, y = y, x\n",
    "print(\"Values after swapping: \",x, y)"
   ]
  },
  {
   "cell_type": "markdown",
   "id": "51e442f3",
   "metadata": {},
   "source": [
    "2. Create a program that calculates the area of a rectangle. Take the length and\n",
    "width as inputs from the user and store them in variables. Calculate and\n",
    "display the area"
   ]
  },
  {
   "cell_type": "code",
   "execution_count": 5,
   "id": "0b4870a6",
   "metadata": {},
   "outputs": [
    {
     "name": "stdout",
     "output_type": "stream",
     "text": [
      "Enter the length of the rectangle: 5\n",
      "Enter the width of the rectangle: 4\n",
      "Area of the rectangle is:  20\n"
     ]
    }
   ],
   "source": [
    "# Area of a rectangle = width * height\n",
    "\n",
    "a = int(input(\"Enter the length of the rectangle: \"))\n",
    "b = int(input(\"Enter the width of the rectangle: \"))\n",
    "area_of_rectangle = a * b\n",
    "print(\"Area of the rectangle is: \", area_of_rectangle)"
   ]
  },
  {
   "cell_type": "markdown",
   "id": "f0be45fd",
   "metadata": {},
   "source": [
    "3. Write a Python program that converts temperatures from Celsius to\n",
    "Fahrenheit. Take the temperature in Celsius as input, store it in a variable,\n",
    "convert it to Fahrenheit, and display the result"
   ]
  },
  {
   "cell_type": "code",
   "execution_count": 11,
   "id": "8da2faa4",
   "metadata": {},
   "outputs": [
    {
     "name": "stdout",
     "output_type": "stream",
     "text": [
      "Enter the temperature in celcius: 46\n",
      "The temperature in celcius is 46 and in fahrenheit is 114.8: \n"
     ]
    }
   ],
   "source": [
    "# Fahrenheit = (celcius * 1.8) + 32\n",
    "\n",
    "cels_temp = int(input(\"Enter the temperature in celcius: \"))\n",
    "faren_temp = (cels_temp * 1.8) + 32\n",
    "print(\"The temperature in celcius is {0} and in fahrenheit is {1}: \".format(cels_temp, faren_temp))"
   ]
  },
  {
   "cell_type": "markdown",
   "id": "bae35b8c",
   "metadata": {},
   "source": [
    "# TOPIC: String Based Questions"
   ]
  },
  {
   "cell_type": "markdown",
   "id": "3abdc1c8",
   "metadata": {},
   "source": [
    "1.Write a Python program that takes a string as input and prints the length of\n",
    "the string"
   ]
  },
  {
   "cell_type": "code",
   "execution_count": 12,
   "id": "62ac0d74",
   "metadata": {},
   "outputs": [
    {
     "name": "stdout",
     "output_type": "stream",
     "text": [
      "Enter some string: I am a python programmer\n",
      "The length of the string is:  24\n"
     ]
    }
   ],
   "source": [
    "s1 = input(\"Enter some string: \")\n",
    "print(\"The length of the string is: \", len(s1))\n"
   ]
  },
  {
   "cell_type": "markdown",
   "id": "c8550207",
   "metadata": {},
   "source": [
    "2. Create a program that takes a sentence from the user and counts the number\n",
    "of vowels (a, e, i, o, u) in the string"
   ]
  },
  {
   "cell_type": "code",
   "execution_count": 18,
   "id": "c834374c",
   "metadata": {},
   "outputs": [
    {
     "name": "stdout",
     "output_type": "stream",
     "text": [
      "Enter some string: pwskills portal\n",
      "3\n"
     ]
    }
   ],
   "source": [
    "input_string = input(\"Enter some string: \")\n",
    "\n",
    "count_vowels = 0\n",
    "\n",
    "input_string = input_string.lower()\n",
    "\n",
    "count_vowels += input_string.count(\"a\")\n",
    "count_vowels += input_string.count(\"e\")\n",
    "count_vowels += input_string.count(\"i\")\n",
    "count_vowels += input_string.count(\"o\")\n",
    "count_vowels += input_string.count(\"u\")\n",
    "\n",
    "print(count_vowels)"
   ]
  },
  {
   "cell_type": "markdown",
   "id": "9f9902da",
   "metadata": {},
   "source": [
    "3. Given a string, reverse the order of characters using string slicing and print\n",
    "the reversed string"
   ]
  },
  {
   "cell_type": "code",
   "execution_count": 21,
   "id": "d946da41",
   "metadata": {},
   "outputs": [
    {
     "name": "stdout",
     "output_type": "stream",
     "text": [
      "Enter a string: Good Morning\n",
      "gninroM dooG\n"
     ]
    }
   ],
   "source": [
    "s2 = input(\"Enter a string: \")\n",
    "print(s2[::-1])"
   ]
  },
  {
   "cell_type": "markdown",
   "id": "d1e3c786",
   "metadata": {},
   "source": [
    "4.  Write a program that takes a string as input and checks if it is a palindrome\n",
    "(reads the same forwards and backwards)"
   ]
  },
  {
   "cell_type": "code",
   "execution_count": 29,
   "id": "e5a0ce2d",
   "metadata": {},
   "outputs": [
    {
     "name": "stdout",
     "output_type": "stream",
     "text": [
      "Enter some string: sas\n"
     ]
    },
    {
     "data": {
      "text/plain": [
       "'is palindrome'"
      ]
     },
     "execution_count": 29,
     "metadata": {},
     "output_type": "execute_result"
    }
   ],
   "source": [
    "# check whether it is a palindrome or not\n",
    "def is_palindrome():\n",
    "    s3 = input(\"Enter some string: \")\n",
    "    if s3 == s3[::-1]:\n",
    "        return \"is palindrome\"\n",
    "    else:\n",
    "        return \"Not palindrome\"\n",
    "is_palindrome()"
   ]
  },
  {
   "cell_type": "markdown",
   "id": "a2637479",
   "metadata": {},
   "source": [
    "5. Create a program that takes a string as input and removes all the spaces from\n",
    "it. Print the modified string without spaces."
   ]
  },
  {
   "cell_type": "code",
   "execution_count": 34,
   "id": "c34ce932",
   "metadata": {},
   "outputs": [
    {
     "name": "stdout",
     "output_type": "stream",
     "text": [
      "Enter some string: Hello how are you\n",
      "The string without any spaces is:  Hellohowareyou\n"
     ]
    }
   ],
   "source": [
    "s3 = input(\"Enter some string: \")\n",
    "# Remove spaces\n",
    "remove_spaces = s3.replace(\" \", \"\")\n",
    "print(\"The string without any spaces is: \", remove_spaces)"
   ]
  },
  {
   "cell_type": "code",
   "execution_count": null,
   "id": "62d68699",
   "metadata": {},
   "outputs": [],
   "source": []
  },
  {
   "cell_type": "code",
   "execution_count": null,
   "id": "9de0975f",
   "metadata": {},
   "outputs": [],
   "source": []
  }
 ],
 "metadata": {
  "kernelspec": {
   "display_name": "tensorflow2.8.2",
   "language": "python",
   "name": "tensorflow2.8.2"
  },
  "language_info": {
   "codemirror_mode": {
    "name": "ipython",
    "version": 3
   },
   "file_extension": ".py",
   "mimetype": "text/x-python",
   "name": "python",
   "nbconvert_exporter": "python",
   "pygments_lexer": "ipython3",
   "version": "3.7.13"
  }
 },
 "nbformat": 4,
 "nbformat_minor": 5
}
